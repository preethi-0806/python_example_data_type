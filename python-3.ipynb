{
 "cells": [
  {
   "cell_type": "raw",
   "id": "26657bd4-eb0b-459d-87c4-fc3ebf20f93b",
   "metadata": {},
   "source": [
    "if condition1:\n",
    "    task1 block of code\n",
    "elif condition2:\n",
    "    task2 block of code\n",
    "elif condition3:\n",
    "    task3 block of code\n",
    "    .\n",
    "    .\n",
    "    .\n",
    "elif condition n:\n",
    "    task n\n",
    "else:\n",
    "    task4 block of code\n",
    "    "
   ]
  },
  {
   "cell_type": "code",
   "execution_count": 1,
   "id": "556f7434-50c0-43a2-a1ac-5632e99ed16d",
   "metadata": {},
   "outputs": [
    {
     "name": "stdout",
     "output_type": "stream",
     "text": [
      "Odd\n"
     ]
    }
   ],
   "source": [
    " x=9\n",
    "if x%2==0:\n",
    "    print(\"Even\")\n",
    "else: \n",
    "    print(\"Odd\")"
   ]
  },
  {
   "cell_type": "code",
   "execution_count": 5,
   "id": "d31565d6-1315-4f23-a73a-15d594bc19fe",
   "metadata": {},
   "outputs": [
    {
     "name": "stdout",
     "output_type": "stream",
     "text": [
      "neg\n"
     ]
    }
   ],
   "source": [
    "x=-5.8\n",
    "if x>0:\n",
    "    print('pos')\n",
    "elif x<0:\n",
    "    print('neg')\n",
    "else:\n",
    "    print('zero')"
   ]
  },
  {
   "cell_type": "code",
   "execution_count": 7,
   "id": "bfe34ff9-fc27-45e5-be58-7c6b59b7b3c4",
   "metadata": {},
   "outputs": [
    {
     "name": "stdout",
     "output_type": "stream",
     "text": [
      "pos\n"
     ]
    }
   ],
   "source": [
    "x=6\n",
    "if x>0:\n",
    "    print('pos')\n",
    "elif x<0:\n",
    "    print('neg')\n",
    "else:\n",
    "    print('zero')"
   ]
  },
  {
   "cell_type": "code",
   "execution_count": 13,
   "id": "6c003746-d9d9-41d9-9576-814741312c29",
   "metadata": {},
   "outputs": [
    {
     "name": "stdout",
     "output_type": "stream",
     "text": [
      "pos\n",
      "T\n"
     ]
    }
   ],
   "source": [
    "x=15\n",
    "if x>0:\n",
    "    print('pos')\n",
    "    if x<10:\n",
    "        print('M')\n",
    "    elif x<10:\n",
    "        print('K')\n",
    "    else:\n",
    "        print('T')\n",
    "elif x<0:\n",
    "    print('neg')\n",
    "else:\n",
    "    print('zero')"
   ]
  },
  {
   "cell_type": "code",
   "execution_count": 31,
   "id": "412b3729-3805-48a2-828a-8cafda397f56",
   "metadata": {},
   "outputs": [
    {
     "name": "stdout",
     "output_type": "stream",
     "text": [
      "neg\n",
      "Z\n"
     ]
    }
   ],
   "source": [
    "x=-10\n",
    "if x>0:\n",
    "    print('pos')\n",
    "    if x>10:\n",
    "        print('M')\n",
    "    elif x<10:\n",
    "        print('K')\n",
    "    else:\n",
    "        print('T')\n",
    "elif x<0:\n",
    "    print('neg')\n",
    "    if x<-20:\n",
    "        print('Q')\n",
    "    elif x>-10:\n",
    "        print('C')\n",
    "    elif x>-30:\n",
    "        print('Z')\n",
    "else:\n",
    "    print('zero')"
   ]
  },
  {
   "cell_type": "code",
   "execution_count": 67,
   "id": "7254b67c-bee1-492c-af6c-9a60261540c4",
   "metadata": {},
   "outputs": [
    {
     "name": "stdout",
     "output_type": "stream",
     "text": [
      "True\n"
     ]
    }
   ],
   "source": [
    "x='tiger'\n",
    "if x[0]=='t' or x[0]=='T':\n",
    "    print(\"True\")\n",
    "else:\n",
    "    print(\"False\")"
   ]
  },
  {
   "cell_type": "code",
   "execution_count": 69,
   "id": "c6fb70df-7f37-4896-97b3-f003db01dec9",
   "metadata": {},
   "outputs": [
    {
     "name": "stdout",
     "output_type": "stream",
     "text": [
      "False\n"
     ]
    }
   ],
   "source": [
    "x='tiger'\n",
    "if x[1]=='t' or x[1]=='T':\n",
    "    print(\"True\")\n",
    "else:\n",
    "    print(\"False\")"
   ]
  },
  {
   "cell_type": "code",
   "execution_count": 75,
   "id": "69bb01fb-3ed8-421a-bdb2-564c43070826",
   "metadata": {},
   "outputs": [
    {
     "name": "stdout",
     "output_type": "stream",
     "text": [
      "True\n"
     ]
    }
   ],
   "source": [
    "x='tiger'\n",
    "if x[1]=='Y' or x[1]=='T' or x[2]=='i' or x[0]=='t':\n",
    "    print(\"True\")\n",
    "else:\n",
    "    print(\"False\")"
   ]
  },
  {
   "cell_type": "code",
   "execution_count": 85,
   "id": "a923452b-0a79-418d-9e3c-5c659c8f0fa6",
   "metadata": {},
   "outputs": [
    {
     "name": "stdin",
     "output_type": "stream",
     "text": [
      " preethi\n"
     ]
    },
    {
     "name": "stdout",
     "output_type": "stream",
     "text": [
      "True\n"
     ]
    }
   ],
   "source": [
    "x=str(input())\n",
    "if x[1]=='Y' or x[0]=='p' or x[2]=='i' or x[0]=='t':\n",
    "    print(\"True\")\n",
    "else:\n",
    "    print(\"False\")"
   ]
  },
  {
   "cell_type": "code",
   "execution_count": 89,
   "id": "1a1f0bb1-5199-4c02-a227-a24ee654c695",
   "metadata": {},
   "outputs": [
    {
     "name": "stdout",
     "output_type": "stream",
     "text": [
      "False\n"
     ]
    }
   ],
   "source": [
    "x='sun'\n",
    "if x[0].lower()=='t':\n",
    "    print(\"True\")\n",
    "else:\n",
    "    print(\"False\")"
   ]
  },
  {
   "cell_type": "code",
   "execution_count": 91,
   "id": "e40938c9-51c0-4363-8bb3-aad83763f289",
   "metadata": {},
   "outputs": [
    {
     "name": "stdout",
     "output_type": "stream",
     "text": [
      "True\n"
     ]
    }
   ],
   "source": [
    "x='tiger'\n",
    "if x[0].lower() in ('s','m','t'):\n",
    "    print(\"True\")\n",
    "else:\n",
    "    print(\"False\")"
   ]
  }
 ],
 "metadata": {
  "kernelspec": {
   "display_name": "Python [conda env:base] *",
   "language": "python",
   "name": "conda-base-py"
  },
  "language_info": {
   "codemirror_mode": {
    "name": "ipython",
    "version": 3
   },
   "file_extension": ".py",
   "mimetype": "text/x-python",
   "name": "python",
   "nbconvert_exporter": "python",
   "pygments_lexer": "ipython3",
   "version": "3.12.7"
  }
 },
 "nbformat": 4,
 "nbformat_minor": 5
}
