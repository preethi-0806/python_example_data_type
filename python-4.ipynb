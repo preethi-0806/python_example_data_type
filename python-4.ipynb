{
 "cells": [
  {
   "cell_type": "code",
   "execution_count": 1,
   "id": "0a9edb87-79fc-4701-a62f-9ca43cb204eb",
   "metadata": {},
   "outputs": [
    {
     "data": {
      "text/plain": [
       "[40, 20, 80, 50, 30, 60, 90]"
      ]
     },
     "execution_count": 1,
     "metadata": {},
     "output_type": "execute_result"
    }
   ],
   "source": [
    "dollars=[40,20,80,50,30,60,90]\n",
    "dollars"
   ]
  },
  {
   "cell_type": "code",
   "execution_count": 11,
   "id": "36784735-cc7c-4c22-b7c6-82aa98bb8b50",
   "metadata": {},
   "outputs": [],
   "source": [
    "list=[]\n",
    "for i in dollars:\n",
    "    list.append(i*85)"
   ]
  },
  {
   "cell_type": "code",
   "execution_count": 15,
   "id": "4ebdaaee-0a69-443f-86e8-7accd56ffa1d",
   "metadata": {},
   "outputs": [
    {
     "data": {
      "text/plain": [
       "[3400, 1700, 6800, 4250, 2550, 5100, 7650]"
      ]
     },
     "execution_count": 15,
     "metadata": {},
     "output_type": "execute_result"
    }
   ],
   "source": [
    "list"
   ]
  },
  {
   "cell_type": "code",
   "execution_count": 17,
   "id": "ef81d45d-467c-4f13-9a45-dc2995729b3d",
   "metadata": {},
   "outputs": [
    {
     "data": {
      "text/plain": [
       "[31, 45, 66, 33, 90, 78, 67, 87, 89, 93, 25, 59, 9, 81]"
      ]
     },
     "execution_count": 17,
     "metadata": {},
     "output_type": "execute_result"
    }
   ],
   "source": [
    "num=[31,45,66,33,90,78,67,87,89,93,25,59,9,81]\n",
    "num"
   ]
  },
  {
   "cell_type": "code",
   "execution_count": 27,
   "id": "5c74fb32-2797-4016-9807-29800a6bfa3c",
   "metadata": {},
   "outputs": [
    {
     "name": "stdout",
     "output_type": "stream",
     "text": [
      "Even:  [66, 90, 78]\n",
      "odd:  [31, 45, 33, 67, 87, 89, 93, 25, 59, 9, 81]\n"
     ]
    }
   ],
   "source": [
    "odd=[]\n",
    "even=[]\n",
    "for i in num:\n",
    "    if i%2==0:\n",
    "        even.append(i)\n",
    "    else:\n",
    "        odd.append(i)\n",
    "print(\"Even: \",even)\n",
    "print(\"odd: \",odd)\n",
    "    "
   ]
  },
  {
   "cell_type": "code",
   "execution_count": 33,
   "id": "301d9eca-5439-4ddc-a7e3-8351a65c1b02",
   "metadata": {},
   "outputs": [
    {
     "data": {
      "text/plain": [
       "[39, 45, 66, 93, 90, 78, 67, 87, 89, 93, 25, 59, 49, 91]"
      ]
     },
     "execution_count": 33,
     "metadata": {},
     "output_type": "execute_result"
    }
   ],
   "source": [
    "num1=[39,45,66,93,90,78,67,87,89,93,25,59,49,91]\n",
    "num1"
   ]
  },
  {
   "cell_type": "code",
   "execution_count": 41,
   "id": "29222a22-7578-4571-8a76-4940feb78e53",
   "metadata": {},
   "outputs": [
    {
     "data": {
      "text/plain": [
       "[31, 45, 66, 13, 10, 78, 67, 87, 81, 13, 25, 51, 41, 11]"
      ]
     },
     "execution_count": 41,
     "metadata": {},
     "output_type": "execute_result"
    }
   ],
   "source": [
    "num1 = [39, 45, 66, 93, 90, 78, 67, 87, 89, 93, 25, 59, 49, 91]\n",
    "num1 = [int(str(x).replace('9', '1')) for x in num1]\n",
    "num1\n"
   ]
  },
  {
   "cell_type": "code",
   "execution_count": 49,
   "id": "47be0579-5014-4525-8058-3b5663b514b7",
   "metadata": {},
   "outputs": [
    {
     "data": {
      "text/plain": [
       "[31, 45, 66, 13, 10, 75, 67, 57, 51, 13, 25, 51, 41, 11]"
      ]
     },
     "execution_count": 49,
     "metadata": {},
     "output_type": "execute_result"
    }
   ],
   "source": [
    "h=[]\n",
    "for i in num1:\n",
    "    a=str(i)\n",
    "    b=a.replace('8','5')\n",
    "    c=int(b)\n",
    "    h.append(c)\n",
    "h"
   ]
  },
  {
   "cell_type": "code",
   "execution_count": null,
   "id": "d0214ad8-1e12-4cd1-962b-9c71f757aab0",
   "metadata": {},
   "outputs": [],
   "source": []
  }
 ],
 "metadata": {
  "kernelspec": {
   "display_name": "Python [conda env:base] *",
   "language": "python",
   "name": "conda-base-py"
  },
  "language_info": {
   "codemirror_mode": {
    "name": "ipython",
    "version": 3
   },
   "file_extension": ".py",
   "mimetype": "text/x-python",
   "name": "python",
   "nbconvert_exporter": "python",
   "pygments_lexer": "ipython3",
   "version": "3.12.7"
  }
 },
 "nbformat": 4,
 "nbformat_minor": 5
}
