{
 "cells": [
  {
   "cell_type": "code",
   "execution_count": null,
   "id": "4124e5bd-5976-4e71-8aef-cfb5a3f37c56",
   "metadata": {},
   "outputs": [],
   "source": []
  }
 ],
 "metadata": {
  "kernelspec": {
   "display_name": "",
   "name": ""
  },
  "language_info": {
   "name": ""
  }
 },
 "nbformat": 4,
 "nbformat_minor": 5
}
