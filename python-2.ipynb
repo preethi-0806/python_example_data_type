{
 "cells": [
  {
   "cell_type": "code",
   "execution_count": 115,
   "id": "780f39aa-fce9-41be-ad46-ab9a5c9ebe47",
   "metadata": {},
   "outputs": [
    {
     "data": {
      "text/plain": [
       "{101: 200, 102: 60, 105: 50}"
      ]
     },
     "execution_count": 115,
     "metadata": {},
     "output_type": "execute_result"
    }
   ],
   "source": [
    "d={101: 200,102: 60,105: 50}\n",
    "d"
   ]
  },
  {
   "cell_type": "code",
   "execution_count": 3,
   "id": "58a8d114-4da8-4f97-8ff4-df6a239ef757",
   "metadata": {},
   "outputs": [
    {
     "data": {
      "text/plain": [
       "{101: 'india', 102: 60, 105: 50}"
      ]
     },
     "execution_count": 3,
     "metadata": {},
     "output_type": "execute_result"
    }
   ],
   "source": [
    "d.update({101: 'india'})\n",
    "d"
   ]
  },
  {
   "cell_type": "code",
   "execution_count": 11,
   "id": "ffb79895-5772-42b8-b99b-ea29065d635d",
   "metadata": {},
   "outputs": [
    {
     "data": {
      "text/plain": [
       "dict_keys([101, 102, 105])"
      ]
     },
     "execution_count": 11,
     "metadata": {},
     "output_type": "execute_result"
    }
   ],
   "source": [
    "d.keys()"
   ]
  },
  {
   "cell_type": "code",
   "execution_count": 13,
   "id": "7de1c7bf-3524-41ce-9855-6f7455327b83",
   "metadata": {},
   "outputs": [
    {
     "data": {
      "text/plain": [
       "dict_items([(101, 'india'), (102, 60), (105, 50)])"
      ]
     },
     "execution_count": 13,
     "metadata": {},
     "output_type": "execute_result"
    }
   ],
   "source": [
    "d.items()"
   ]
  },
  {
   "cell_type": "code",
   "execution_count": 15,
   "id": "401453d9-c073-46a8-b533-a18bcd2ac258",
   "metadata": {},
   "outputs": [
    {
     "data": {
      "text/plain": [
       "dict_values(['india', 60, 50])"
      ]
     },
     "execution_count": 15,
     "metadata": {},
     "output_type": "execute_result"
    }
   ],
   "source": [
    "d.values()"
   ]
  },
  {
   "cell_type": "code",
   "execution_count": 17,
   "id": "c7b22405-ec34-4c17-9320-5a9b3a511ae5",
   "metadata": {},
   "outputs": [
    {
     "data": {
      "text/plain": [
       "{101: 'india', 102: 60, 105: [11, 15, 13]}"
      ]
     },
     "execution_count": 17,
     "metadata": {},
     "output_type": "execute_result"
    }
   ],
   "source": [
    "d[105]=[11,15,13]\n",
    "d"
   ]
  },
  {
   "cell_type": "code",
   "execution_count": 24,
   "id": "e38285d5-a4e6-4609-bcbc-db5584c5f6f1",
   "metadata": {},
   "outputs": [
    {
     "data": {
      "text/plain": [
       "str"
      ]
     },
     "execution_count": 24,
     "metadata": {},
     "output_type": "execute_result"
    }
   ],
   "source": [
    "type(d[101])"
   ]
  },
  {
   "cell_type": "markdown",
   "id": "61540a39-ff24-4e28-a013-e57839002f38",
   "metadata": {},
   "source": [
    "## d={101: 600\n",
    "## 102: 600, \n",
    "## 103: 'india', \n",
    "## 104: 4000, \n",
    "## 107: 'india',\n",
    "## 106: 99}"
   ]
  },
  {
   "cell_type": "code",
   "execution_count": 127,
   "id": "b49c9d01-a3b9-4c27-864a-e11daad5cc6e",
   "metadata": {},
   "outputs": [
    {
     "data": {
      "text/plain": [
       "{101: 200,\n",
       " 102: 600,\n",
       " 103: 'india',\n",
       " 104: 4000,\n",
       " 107: 'india',\n",
       " 106: [100, 2000, 3000]}"
      ]
     },
     "execution_count": 127,
     "metadata": {},
     "output_type": "execute_result"
    }
   ],
   "source": [
    "d1={101: 200, 102: 600, 103: 'india', 104: 4000, 107: 'india',106: [100,2000,3000]}\n",
    "d1"
   ]
  },
  {
   "cell_type": "code",
   "execution_count": 131,
   "id": "e21e3b27-0596-43c0-8077-2784f1586d2a",
   "metadata": {},
   "outputs": [
    {
     "data": {
      "text/plain": [
       "4000"
      ]
     },
     "execution_count": 131,
     "metadata": {},
     "output_type": "execute_result"
    }
   ],
   "source": [
    "d1[104]"
   ]
  },
  {
   "cell_type": "code",
   "execution_count": 189,
   "id": "5e3a3d04-8d59-4cb8-8098-113a9581fc99",
   "metadata": {},
   "outputs": [
    {
     "data": {
      "text/plain": [
       "int"
      ]
     },
     "execution_count": 189,
     "metadata": {},
     "output_type": "execute_result"
    }
   ],
   "source": [
    "type(d1[104])"
   ]
  },
  {
   "cell_type": "code",
   "execution_count": 56,
   "id": "8fe7df2c-09d8-4350-a2a1-e62a7fd0c361",
   "metadata": {},
   "outputs": [
    {
     "data": {
      "text/plain": [
       "0"
      ]
     },
     "execution_count": 56,
     "metadata": {},
     "output_type": "execute_result"
    }
   ],
   "source": [
    "d1[106].count(5000)"
   ]
  },
  {
   "cell_type": "code",
   "execution_count": 58,
   "id": "e8b67f5c-a0fd-4317-8164-d3d9590d3ec6",
   "metadata": {},
   "outputs": [
    {
     "data": {
      "text/plain": [
       "1"
      ]
     },
     "execution_count": 58,
     "metadata": {},
     "output_type": "execute_result"
    }
   ],
   "source": [
    "d1[106].count(2000)"
   ]
  },
  {
   "cell_type": "code",
   "execution_count": 62,
   "id": "09f44f99-632c-4871-a5cc-89b0e089e5a1",
   "metadata": {},
   "outputs": [
    {
     "data": {
      "text/plain": [
       "{101: 200,\n",
       " 102: 600,\n",
       " 103: 'india',\n",
       " 104: 4000,\n",
       " 107: 'india',\n",
       " 106: [100, 2000, 3000, 30, 30]}"
      ]
     },
     "execution_count": 62,
     "metadata": {},
     "output_type": "execute_result"
    }
   ],
   "source": [
    "d1[106].append(30)\n",
    "d"
   ]
  },
  {
   "cell_type": "code",
   "execution_count": 70,
   "id": "26d9deb3-32c8-4c50-92fe-7f270bcc6e30",
   "metadata": {},
   "outputs": [
    {
     "data": {
      "text/plain": [
       "{101: 200,\n",
       " 102: 600,\n",
       " 103: 'india',\n",
       " 104: 4000,\n",
       " 107: 'india',\n",
       " 106: [100, 2000, 5500, 3000, 30, 30]}"
      ]
     },
     "execution_count": 70,
     "metadata": {},
     "output_type": "execute_result"
    }
   ],
   "source": [
    "d1[106].insert(2,5500)\n",
    "d"
   ]
  },
  {
   "cell_type": "code",
   "execution_count": 151,
   "id": "412d3c43-b56f-4e51-a4a9-7f3e7872f695",
   "metadata": {},
   "outputs": [
    {
     "data": {
      "text/plain": [
       "{101: 200,\n",
       " 102: 600,\n",
       " 103: (30, 40, 50, 60, 70),\n",
       " 104: 4000,\n",
       " 107: 'INDIA',\n",
       " 106: [100, 2000, 3000]}"
      ]
     },
     "execution_count": 151,
     "metadata": {},
     "output_type": "execute_result"
    }
   ],
   "source": [
    "d1.update({103:(30,40,50,60,70)})\n",
    "d1"
   ]
  },
  {
   "cell_type": "code",
   "execution_count": 153,
   "id": "3d934a15-8647-4f97-9604-2754619e39df",
   "metadata": {},
   "outputs": [
    {
     "data": {
      "text/plain": [
       "(30, 40, 50, 60, 70)"
      ]
     },
     "execution_count": 153,
     "metadata": {},
     "output_type": "execute_result"
    }
   ],
   "source": [
    "d1[103]"
   ]
  },
  {
   "cell_type": "code",
   "execution_count": 155,
   "id": "3cd2cb4b-ad40-4c32-8c25-c8f37e18d4f7",
   "metadata": {},
   "outputs": [
    {
     "data": {
      "text/plain": [
       "str"
      ]
     },
     "execution_count": 155,
     "metadata": {},
     "output_type": "execute_result"
    }
   ],
   "source": [
    "type(d1[107])"
   ]
  },
  {
   "cell_type": "code",
   "execution_count": 157,
   "id": "3e9112b6-f93c-402d-bb52-5d0ece9fc018",
   "metadata": {},
   "outputs": [
    {
     "data": {
      "text/plain": [
       "tuple"
      ]
     },
     "execution_count": 157,
     "metadata": {},
     "output_type": "execute_result"
    }
   ],
   "source": [
    "type(d1[103])"
   ]
  },
  {
   "cell_type": "code",
   "execution_count": 159,
   "id": "869fa3ee-f062-4082-b8c9-3281a7f5493c",
   "metadata": {},
   "outputs": [
    {
     "data": {
      "text/plain": [
       "{101: 200,\n",
       " 102: 600,\n",
       " 103: (30, 40, 50, 60, 70),\n",
       " 104: 4000,\n",
       " 107: 'INDIA',\n",
       " 106: [100, 2000, 3000]}"
      ]
     },
     "execution_count": 159,
     "metadata": {},
     "output_type": "execute_result"
    }
   ],
   "source": [
    "d1"
   ]
  },
  {
   "cell_type": "code",
   "execution_count": 161,
   "id": "872a3d86-113d-4525-98f5-c0267c4ed90f",
   "metadata": {},
   "outputs": [
    {
     "data": {
      "text/plain": [
       "'INDIA'"
      ]
     },
     "execution_count": 161,
     "metadata": {},
     "output_type": "execute_result"
    }
   ],
   "source": [
    "d1[107].upper()"
   ]
  },
  {
   "cell_type": "code",
   "execution_count": 163,
   "id": "e5c2a140-e06f-4d28-9c31-fb3a5068b5a4",
   "metadata": {},
   "outputs": [],
   "source": [
    "d1[107]=d1[107].upper()"
   ]
  },
  {
   "cell_type": "code",
   "execution_count": 195,
   "id": "f251846b-8392-4382-b303-7d41975d59f0",
   "metadata": {},
   "outputs": [
    {
     "data": {
      "text/plain": [
       "{101: 200,\n",
       " 102: 600,\n",
       " 103: (30, 40, 50, 60, 70),\n",
       " 104: 4000,\n",
       " 107: 'INDIA',\n",
       " 106: [100, 2000, 3000]}"
      ]
     },
     "execution_count": 195,
     "metadata": {},
     "output_type": "execute_result"
    }
   ],
   "source": [
    "d1"
   ]
  },
  {
   "cell_type": "code",
   "execution_count": null,
   "id": "b0cc5a3d-b7dd-44c9-8f35-5f002533c3c7",
   "metadata": {},
   "outputs": [],
   "source": [
    "#accessing the elements"
   ]
  },
  {
   "cell_type": "code",
   "execution_count": 197,
   "id": "93874c60-f101-4cc6-a179-e21ddaad7487",
   "metadata": {},
   "outputs": [
    {
     "data": {
      "text/plain": [
       "70"
      ]
     },
     "execution_count": 197,
     "metadata": {},
     "output_type": "execute_result"
    }
   ],
   "source": [
    "d1[103][4]"
   ]
  },
  {
   "cell_type": "code",
   "execution_count": 199,
   "id": "873f1cbf-ea3a-4d43-85a9-6c3c3c272d0b",
   "metadata": {},
   "outputs": [
    {
     "data": {
      "text/plain": [
       "2000"
      ]
     },
     "execution_count": 199,
     "metadata": {},
     "output_type": "execute_result"
    }
   ],
   "source": [
    "d1[106][1]"
   ]
  },
  {
   "cell_type": "code",
   "execution_count": null,
   "id": "a52bfac0-030f-4de6-a3e4-65167a766476",
   "metadata": {},
   "outputs": [],
   "source": []
  }
 ],
 "metadata": {
  "kernelspec": {
   "display_name": "Python [conda env:base] *",
   "language": "python",
   "name": "conda-base-py"
  },
  "language_info": {
   "codemirror_mode": {
    "name": "ipython",
    "version": 3
   },
   "file_extension": ".py",
   "mimetype": "text/x-python",
   "name": "python",
   "nbconvert_exporter": "python",
   "pygments_lexer": "ipython3",
   "version": "3.12.7"
  }
 },
 "nbformat": 4,
 "nbformat_minor": 5
}
